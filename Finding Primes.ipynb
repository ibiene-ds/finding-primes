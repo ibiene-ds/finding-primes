{
 "cells": [
  {
   "cell_type": "markdown",
   "id": "771bdbf7",
   "metadata": {},
   "source": [
    "# Finding Prime Numbers"
   ]
  },
  {
   "cell_type": "markdown",
   "id": "6849138d",
   "metadata": {},
   "source": [
    "### A prime number is a number that is only divisible by 1 and itself. Numbers like 2, 3, 5, 7, 9, 11, 13, 17, 19...are considered primes.\n",
    "\n",
    "Below is a function to return all primes less than a given number. Some thoughts that went into the function:\n",
    "\n",
    "- 2 is the smallest prime number, so for every new input to the function, the generated list contains 2 as the smallest number\n",
    "- For every input, a new list is generated to test divisibility"
   ]
  },
  {
   "cell_type": "code",
   "execution_count": 157,
   "id": "af8575a6",
   "metadata": {},
   "outputs": [],
   "source": [
    "def find_primes(num):\n",
    "    import numpy as np\n",
    "    primes = [2]\n",
    "    numbers_list =np.arange(2, num).tolist()\n",
    "    for num in numbers_list:\n",
    "        nums_LT_input = np.arange(2, num+1).tolist()\n",
    "        for x in nums_LT_input:\n",
    "            if num % x == 0:\n",
    "                break\n",
    "            else:\n",
    "                primes.append(num)\n",
    "                break\n",
    "    print(f\"List of primes less than {num} are: {primes}\")"
   ]
  },
  {
   "cell_type": "code",
   "execution_count": 158,
   "id": "14473d91",
   "metadata": {
    "scrolled": false
   },
   "outputs": [
    {
     "name": "stdout",
     "output_type": "stream",
     "text": [
      "List of primes less than 49 are: [2, 3, 5, 7, 9, 11, 13, 15, 17, 19, 21, 23, 25, 27, 29, 31, 33, 35, 37, 39, 41, 43, 45, 47, 49]\n"
     ]
    }
   ],
   "source": [
    "find_primes(50)"
   ]
  },
  {
   "cell_type": "code",
   "execution_count": 143,
   "id": "11203fa8",
   "metadata": {},
   "outputs": [],
   "source": [
    "def test(n):\n",
    "    return sum(range(n))\n",
    "\n"
   ]
  },
  {
   "cell_type": "code",
   "execution_count": 152,
   "id": "8ab44d0c",
   "metadata": {
    "scrolled": false
   },
   "outputs": [
    {
     "name": "stdout",
     "output_type": "stream",
     "text": [
      "24.8 µs ± 8.37 µs per loop (mean ± std. dev. of 3 runs, 500 loops each)\n"
     ]
    }
   ],
   "source": [
    "%timeit -r 3 -n 500 find_primes(10)"
   ]
  },
  {
   "cell_type": "code",
   "execution_count": 156,
   "id": "ef26103c",
   "metadata": {},
   "outputs": [
    {
     "ename": "ModuleNotFoundError",
     "evalue": "No module named 'progressbar'",
     "output_type": "error",
     "traceback": [
      "\u001b[1;31m---------------------------------------------------------------------------\u001b[0m",
      "\u001b[1;31mModuleNotFoundError\u001b[0m                       Traceback (most recent call last)",
      "Input \u001b[1;32mIn [156]\u001b[0m, in \u001b[0;36m<cell line: 2>\u001b[1;34m()\u001b[0m\n\u001b[0;32m      1\u001b[0m \u001b[38;5;28;01mimport\u001b[39;00m \u001b[38;5;21;01mtime\u001b[39;00m\n\u001b[1;32m----> 2\u001b[0m \u001b[38;5;28;01mfrom\u001b[39;00m \u001b[38;5;21;01mprogressbar\u001b[39;00m \u001b[38;5;28;01mimport\u001b[39;00m ProgressBar\n\u001b[0;32m      3\u001b[0m pbar \u001b[38;5;241m=\u001b[39m ProgressBar()\u001b[38;5;241m.\u001b[39mstart()\n\u001b[0;32m      4\u001b[0m \u001b[38;5;28;01mdef\u001b[39;00m \u001b[38;5;21mjob\u001b[39m():\n",
      "\u001b[1;31mModuleNotFoundError\u001b[0m: No module named 'progressbar'"
     ]
    }
   ],
   "source": [
    "import time\n",
    "from progressbar import ProgressBar\n",
    "pbar = ProgressBar().start()\n",
    "def job():\n",
    "    total_steps = 7\n",
    "    pbar.update((1/7)*100)  # current step/total steps * 100\n",
    "    pbar.update((2/7)*100)  # current step/total steps * 100\n",
    "    pbar.finish()"
   ]
  },
  {
   "cell_type": "code",
   "execution_count": 153,
   "id": "0b52b1b6",
   "metadata": {},
   "outputs": [
    {
     "name": "stderr",
     "output_type": "stream",
     "text": [
      "0it [00:00, ?it/s]\n"
     ]
    },
    {
     "ename": "TypeError",
     "evalue": "'NoneType' object is not iterable",
     "output_type": "error",
     "traceback": [
      "\u001b[1;31m---------------------------------------------------------------------------\u001b[0m",
      "\u001b[1;31mTypeError\u001b[0m                                 Traceback (most recent call last)",
      "Input \u001b[1;32mIn [153]\u001b[0m, in \u001b[0;36m<cell line: 3>\u001b[1;34m()\u001b[0m\n\u001b[0;32m      1\u001b[0m \u001b[38;5;28;01mfrom\u001b[39;00m \u001b[38;5;21;01mtime\u001b[39;00m \u001b[38;5;28;01mimport\u001b[39;00m sleep\n\u001b[0;32m      2\u001b[0m \u001b[38;5;28;01mfrom\u001b[39;00m \u001b[38;5;21;01mtqdm\u001b[39;00m \u001b[38;5;28;01mimport\u001b[39;00m tqdm\n\u001b[1;32m----> 3\u001b[0m \u001b[38;5;28;01mfor\u001b[39;00m i \u001b[38;5;129;01min\u001b[39;00m tqdm(find_primes(\u001b[38;5;241m10\u001b[39m)):\n\u001b[0;32m      4\u001b[0m     sleep(\u001b[38;5;241m3\u001b[39m)\n",
      "File \u001b[1;32m~\\AppData\\Roaming\\Python\\Python39\\site-packages\\tqdm\\std.py:1178\u001b[0m, in \u001b[0;36mtqdm.__iter__\u001b[1;34m(self)\u001b[0m\n\u001b[0;32m   1175\u001b[0m time \u001b[38;5;241m=\u001b[39m \u001b[38;5;28mself\u001b[39m\u001b[38;5;241m.\u001b[39m_time\n\u001b[0;32m   1177\u001b[0m \u001b[38;5;28;01mtry\u001b[39;00m:\n\u001b[1;32m-> 1178\u001b[0m     \u001b[38;5;28;01mfor\u001b[39;00m obj \u001b[38;5;129;01min\u001b[39;00m iterable:\n\u001b[0;32m   1179\u001b[0m         \u001b[38;5;28;01myield\u001b[39;00m obj\n\u001b[0;32m   1180\u001b[0m         \u001b[38;5;66;03m# Update and possibly print the progressbar.\u001b[39;00m\n\u001b[0;32m   1181\u001b[0m         \u001b[38;5;66;03m# Note: does not call self.update(1) for speed optimisation.\u001b[39;00m\n",
      "\u001b[1;31mTypeError\u001b[0m: 'NoneType' object is not iterable"
     ]
    }
   ],
   "source": [
    "from time import sleep\n",
    "from tqdm import tqdm\n",
    "for i in tqdm(find_primes(10)):\n",
    "    sleep(3)"
   ]
  },
  {
   "cell_type": "code",
   "execution_count": null,
   "id": "7636ea96",
   "metadata": {},
   "outputs": [],
   "source": []
  }
 ],
 "metadata": {
  "kernelspec": {
   "display_name": "Python 3 (ipykernel)",
   "language": "python",
   "name": "python3"
  },
  "language_info": {
   "codemirror_mode": {
    "name": "ipython",
    "version": 3
   },
   "file_extension": ".py",
   "mimetype": "text/x-python",
   "name": "python",
   "nbconvert_exporter": "python",
   "pygments_lexer": "ipython3",
   "version": "3.9.12"
  }
 },
 "nbformat": 4,
 "nbformat_minor": 5
}
