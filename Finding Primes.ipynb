{
 "cells": [
  {
   "cell_type": "markdown",
   "id": "47898842",
   "metadata": {},
   "source": [
    "# Finding Prime Numbers"
   ]
  },
  {
   "cell_type": "markdown",
   "id": "858b4175",
   "metadata": {},
   "source": [
    "### A prime number is a number that is only divisible by 1 and itself. Numbers like 2, 3, 5, 7, 9, 11, 13, 17, 19...are considered primes.\n",
    "\n",
    "Below is a function to return all primes less than a given number. Some thoughts that went into the function:\n",
    "\n",
    "- 2 is the smallest prime number, so for every new input to the function, the generated list contains 2 as the smallest number\n",
    "- For every input, a new list is generated to test divisibility"
   ]
  },
  {
   "cell_type": "code",
   "execution_count": 3,
   "id": "9123da33",
   "metadata": {},
   "outputs": [],
   "source": [
    "def find_primes(num):\n",
    "    import numpy as np\n",
    "    primes = [2]\n",
    "    numbers_list =np.arange(2, num).tolist()\n",
    "    for num in numbers_list:\n",
    "        nums_LT_input = np.arange(2, num+1).tolist()\n",
    "        for x in nums_LT_input:\n",
    "            if num % x == 0:\n",
    "                break\n",
    "            else:\n",
    "                primes.append(num)\n",
    "                break\n",
    "    print(f\"List of primes less than {num+1} are: {primes}\")"
   ]
  },
  {
   "cell_type": "code",
   "execution_count": 4,
   "id": "727e8c27",
   "metadata": {},
   "outputs": [
    {
     "name": "stdout",
     "output_type": "stream",
     "text": [
      "List of primes less than 50 are: [2, 3, 5, 7, 9, 11, 13, 15, 17, 19, 21, 23, 25, 27, 29, 31, 33, 35, 37, 39, 41, 43, 45, 47, 49]\n"
     ]
    }
   ],
   "source": [
    "find_primes(50)"
   ]
  }
 ],
 "metadata": {
  "kernelspec": {
   "display_name": "Python 3 (ipykernel)",
   "language": "python",
   "name": "python3"
  },
  "language_info": {
   "codemirror_mode": {
    "name": "ipython",
    "version": 3
   },
   "file_extension": ".py",
   "mimetype": "text/x-python",
   "name": "python",
   "nbconvert_exporter": "python",
   "pygments_lexer": "ipython3",
   "version": "3.9.12"
  }
 },
 "nbformat": 4,
 "nbformat_minor": 5
}
