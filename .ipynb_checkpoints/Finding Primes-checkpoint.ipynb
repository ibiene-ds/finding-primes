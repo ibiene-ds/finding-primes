{
 "cells": [
  {
   "cell_type": "markdown",
   "id": "bedc0b17",
   "metadata": {},
   "source": [
    "# Finding Prime Numbers"
   ]
  },
  {
   "cell_type": "markdown",
   "id": "cb6a38ae",
   "metadata": {},
   "source": [
    "### A prime number is a number that is only divisible by 1 and itself. Numbers like 2, 3, 5, 7, 9, 11, 13, 17, 19...are considered primes.\n",
    "\n",
    "Below is a script to return all primes less than a given number. Some thoughts that went into the function:\n"
   ]
  },
  {
   "cell_type": "code",
   "execution_count": 23,
   "id": "3906820f",
   "metadata": {},
   "outputs": [
    {
     "name": "stdout",
     "output_type": "stream",
     "text": [
      "There are 168 prime numbers between 1 and 1000, the largest of which is 997 \n",
      "\n",
      "[2, 3, 5, 7, 11, 13, 17, 19, 23, 29, 31, 37, 41, 43, 47, 53, 59, 61, 67, 71, 73, 79, 83, 89, 97, 101, 103, 107, 109, 113, 127, 131, 137, 139, 149, 151, 157, 163, 167, 173, 179, 181, 191, 193, 197, 199, 211, 223, 227, 229, 233, 239, 241, 251, 257, 263, 269, 271, 277, 281, 283, 293, 307, 311, 313, 317, 331, 337, 347, 349, 353, 359, 367, 373, 379, 383, 389, 397, 401, 409, 419, 421, 431, 433, 439, 443, 449, 457, 461, 463, 467, 479, 487, 491, 499, 503, 509, 521, 523, 541, 547, 557, 563, 569, 571, 577, 587, 593, 599, 601, 607, 613, 617, 619, 631, 641, 643, 647, 653, 659, 661, 673, 677, 683, 691, 701, 709, 719, 727, 733, 739, 743, 751, 757, 761, 769, 773, 787, 797, 809, 811, 821, 823, 827, 829, 839, 853, 857, 859, 863, 877, 881, 883, 887, 907, 911, 919, 929, 937, 941, 947, 953, 967, 971, 977, 983, 991, 997]\n"
     ]
    }
   ],
   "source": [
    "n = 1000\n",
    "\n",
    "# number range to be checked\n",
    "number_range = set(range(2, n+1))\n",
    "\n",
    "# empty list to append discovered primes to\n",
    "primes_list = []\n",
    "\n",
    "# iterate until list is empty\n",
    "while number_range:\n",
    "    prime = number_range.pop()\n",
    "    primes_list.append(prime)\n",
    "    multiples = set(range(prime*2, n+1, prime))\n",
    "    number_range.difference_update(multiples)\n",
    "\n",
    "prime_count = len(primes_list)\n",
    "largest_prime = max(primes_list)\n",
    "print(f\"There are {prime_count} prime numbers between 1 and {n}, the largest of which is {largest_prime} \\n\")\n",
    "\n",
    "print(primes_list)\n",
    "\n",
    "\n"
   ]
  }
 ],
 "metadata": {
  "kernelspec": {
   "display_name": "Python 3 (ipykernel)",
   "language": "python",
   "name": "python3"
  },
  "language_info": {
   "codemirror_mode": {
    "name": "ipython",
    "version": 3
   },
   "file_extension": ".py",
   "mimetype": "text/x-python",
   "name": "python",
   "nbconvert_exporter": "python",
   "pygments_lexer": "ipython3",
   "version": "3.9.12"
  }
 },
 "nbformat": 4,
 "nbformat_minor": 5
}
